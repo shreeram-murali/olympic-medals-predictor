{
 "cells": [
  {
   "cell_type": "code",
   "execution_count": 2,
   "metadata": {},
   "outputs": [],
   "source": [
    "import pandas as pd\n",
    "import matplotlib.pyplot as plt\n",
    "import seaborn as sns\n",
    "\n",
    "# Load the data\n",
    "df = pd.read_csv('olympic_analysis_data.csv')\n"
   ]
  },
  {
   "cell_type": "code",
   "execution_count": 2,
   "metadata": {},
   "outputs": [],
   "source": [
    "#1.Number of medals vs. time (trajectory of top few countries over the years)\n",
    "top_countries = df.groupby('country_name')['total_medal_count'].sum().nlargest(20).index\n",
    "plt.figure(figsize=(12, 6))\n",
    "for country in top_countries:\n",
    "    country_data = df[df['country_name'] == country].sort_values('year')\n",
    "    plt.plot(country_data['year'], country_data['total_medal_count'], label=country)\n",
    "plt.title('Number of Medals Over Time for Top 5 Countries')\n",
    "plt.xlabel('Year')\n",
    "plt.ylabel('Number of Medals')\n",
    "plt.legend()\n",
    "plt.savefig('medals_over_time.png')\n",
    "plt.close()"
   ]
  },
  {
   "cell_type": "code",
   "execution_count": 4,
   "metadata": {},
   "outputs": [],
   "source": [
    "# 2. Correlation heatmap of the predictor variables\n",
    "predictor_vars = ['population', 'gdp_per_capita', 'life_expectancy', 'pop_20_39_percent', 'urban_population_percent','bmi_mean','area_sq_km','democracy_score', 'hosting_status','total_medal_count']\n",
    "corr_matrix = df[predictor_vars].corr()\n",
    "plt.figure(figsize=(18, 18))\n",
    "sns.heatmap(corr_matrix, annot=True, cmap='coolwarm', vmin=-1, vmax=1, center=0)\n",
    "\n",
    "plt.savefig('correlation_heatmap.pdf')\n",
    "plt.close()"
   ]
  },
  {
   "cell_type": "code",
   "execution_count": 4,
   "metadata": {},
   "outputs": [],
   "source": [
    "# 4. Number of medals vs. GDP per capita (scatter plot)\n",
    "plt.figure(figsize=(10, 6))\n",
    "sns.scatterplot(data=df, x='gdp_per_capita', y='total_medal_count', alpha=0.6)\n",
    "plt.title('Number of Medals vs GDP per Capita')\n",
    "plt.xlabel('GDP per Capita')\n",
    "plt.ylabel('Number of Medals')\n",
    "plt.xscale('log')  # Using log scale for GDP per capita due to its wide range\n",
    "plt.savefig('medals_vs_gdp.png')\n",
    "plt.close()"
   ]
  },
  {
   "cell_type": "code",
   "execution_count": 17,
   "metadata": {},
   "outputs": [],
   "source": [
    "# 5. Bonus: Box plot of medals for host vs non-host countries\n",
    "plt.figure(figsize=(8, 6))\n",
    "sns.boxplot(data=df, x='hosting_status', y='total_medal_count')\n",
    "\n",
    "plt.xlabel('Hosting Status (0: Non-Host, 1: Host)')\n",
    "plt.ylabel('Number of Medals')\n",
    "plt.savefig('medals_host_vs_nonhost.pdf')\n",
    "plt.close()\n"
   ]
  },
  {
   "cell_type": "code",
   "execution_count": 12,
   "metadata": {},
   "outputs": [],
   "source": [
    "# 6\n",
    "plt.figure(figsize=(8, 6))\n",
    "sns.boxplot(data=df, x='democracy_score', y='total_medal_count')\n",
    "plt.savefig('medals_democracy.pdf')\n",
    "plt.close()"
   ]
  },
  {
   "cell_type": "code",
   "execution_count": 7,
   "metadata": {},
   "outputs": [],
   "source": [
    "\n",
    "features = ['population', 'life_expectancy', 'urban_population_percent', 'bmi_mean', 'area_sq_km', 'democracy_score']\n",
    "\n",
    "plt.figure(figsize=(14, 10))\n",
    "for i, feature in enumerate(features, 1):\n",
    "    plt.subplot(2, 3, i)\n",
    "    sns.scatterplot(data=df, x=feature, y='total_medal_count', alpha=0.7)\n",
    "    plt.title(f'Total Medals vs {feature}')\n",
    "    plt.xlabel(feature)\n",
    "    plt.ylabel('Total Medals')\n",
    "plt.tight_layout()\n",
    "plt.savefig('scatter_plots_features_medals.png')\n",
    "plt.close()\n"
   ]
  },
  {
   "cell_type": "code",
   "execution_count": 8,
   "metadata": {},
   "outputs": [],
   "source": [
    "# Joint plot for GDP per Capita vs Total Medals\n",
    "sns.jointplot(data=df, x='gdp_per_capita', y='total_medal_count', kind='reg', height=8)\n",
    "plt.title('GDP per Capita vs Total Medals', loc='left')\n",
    "plt.savefig('jointplot_gdp_vs_medals.png')\n",
    "plt.close()\n",
    "\n",
    "# Joint plot for Population vs Total Medals\n",
    "sns.jointplot(data=df, x='population', y='total_medal_count', kind='reg', height=8)\n",
    "plt.title('Population vs Total Medals', loc='left')\n",
    "plt.savefig('jointplot_population_vs_medals.png')\n",
    "plt.close()"
   ]
  },
  {
   "cell_type": "code",
   "execution_count": 9,
   "metadata": {},
   "outputs": [
    {
     "name": "stdout",
     "output_type": "stream",
     "text": [
      "Graphs have been generated and saved.\n"
     ]
    }
   ],
   "source": [
    "# Pair plot to explore pairwise relationships among key features and total medals\n",
    "sns.pairplot(df[['population', 'gdp_per_capita', 'life_expectancy', 'total_medal_count']])\n",
    "plt.savefig('pairplot_features_medals.png')\n",
    "plt.close()\n",
    "print(\"Graphs have been generated and saved.\")"
   ]
  },
  {
   "cell_type": "code",
   "execution_count": 10,
   "metadata": {},
   "outputs": [],
   "source": [
    "# Calculate total GDP and add it as a new column\n",
    "df['total_gdp'] = df['gdp_per_capita'] * df['population']\n",
    "\n",
    "# Scatter plot of total GDP vs total medal count\n",
    "plt.figure(figsize=(10, 6))\n",
    "sns.scatterplot(data=df, x='total_gdp', y='total_medal_count', alpha=0.6)\n",
    "plt.title('Total GDP vs Total Medal Count')\n",
    "plt.xlabel('Total GDP')\n",
    "plt.ylabel('Total Medal Count')\n",
    "plt.xscale('log')  # Optional: Use log scale for better visualization if GDP values vary widely\n",
    "plt.savefig('total gdp.png')\n",
    "plt.close()\n",
    "\n"
   ]
  },
  {
   "cell_type": "code",
   "execution_count": 9,
   "metadata": {},
   "outputs": [],
   "source": [
    "df['total_gdp'] = df['gdp_per_capita'] * df['population']\n",
    "plt.figure(figsize=(10, 6))\n",
    "sns.scatterplot(data=df, x='total_gdp', y='total_medal_count', alpha=0.6)\n",
    "plt.xscale('log')\n",
    "plt.yscale('log')\n",
    "plt.savefig('log_log_gdp_vs_medals.pdf')\n",
    "plt.close()\n"
   ]
  },
  {
   "cell_type": "code",
   "execution_count": 12,
   "metadata": {},
   "outputs": [],
   "source": [
    "# Create GDP quartiles\n",
    "df['gdp_quartile'] = pd.qcut(df['total_gdp'], 4, labels=['Low', 'Medium', 'High', 'Very High'])\n",
    "\n",
    "# Box plot of total medal count by GDP quartile\n",
    "plt.figure(figsize=(10, 6))\n",
    "sns.boxplot(data=df, x='gdp_quartile', y='total_medal_count')\n",
    "plt.title('Total Medal Count by GDP Quartile')\n",
    "plt.xlabel('GDP Quartile')\n",
    "plt.ylabel('Total Medal Count')\n",
    "plt.savefig('medal_count_by_gdp_quartile.png')\n",
    "plt.close()\n"
   ]
  },
  {
   "cell_type": "code",
   "execution_count": 13,
   "metadata": {},
   "outputs": [],
   "source": [
    "# Create population quartiles for better categorization\n",
    "df['population_quartile'] = pd.qcut(df['population'], 4, labels=['Low', 'Medium', 'High', 'Very High'])\n",
    "\n",
    "# Violin plot for population quartiles vs. total medal count\n",
    "plt.figure(figsize=(10, 6))\n",
    "sns.violinplot(data=df, x='population_quartile', y='total_medal_count')\n",
    "plt.title('Total Medal Count by Population Quartile')\n",
    "plt.xlabel('Population Quartile')\n",
    "plt.ylabel('Total Medal Count')\n",
    "plt.savefig('medals_by_population_quartile.png')\n",
    "plt.close()\n"
   ]
  },
  {
   "cell_type": "code",
   "execution_count": 14,
   "metadata": {},
   "outputs": [],
   "source": [
    "plt.figure(figsize=(10, 6))\n",
    "sns.regplot(data=df, x='total_gdp', y='total_medal_count', scatter_kws={'alpha':0.5})\n",
    "plt.xscale('log')  # Log scale for better visualization\n",
    "plt.title('Regression Plot: Total GDP vs Total Medal Count')\n",
    "plt.xlabel('Total GDP (Log Scale)')\n",
    "plt.ylabel('Total Medal Count')\n",
    "plt.savefig('regression_gdp_vs_medals.png')\n",
    "plt.close()\n"
   ]
  },
  {
   "cell_type": "code",
   "execution_count": 15,
   "metadata": {},
   "outputs": [
    {
     "name": "stderr",
     "output_type": "stream",
     "text": [
      "C:\\Users\\pedro\\AppData\\Local\\Temp\\ipykernel_6696\\4252398930.py:6: FutureWarning: The default value of observed=False is deprecated and will change to observed=True in a future version of pandas. Specify observed=False to silence this warning and retain the current behavior\n",
      "  heatmap_data = df.pivot_table(index='gdp_bin', columns='population_bin', values='total_medal_count', aggfunc='mean')\n"
     ]
    }
   ],
   "source": [
    "# Create bins for population and GDP for heatmap\n",
    "df['gdp_bin'] = pd.cut(df['total_gdp'], bins=5)\n",
    "df['population_bin'] = pd.cut(df['population'], bins=5)\n",
    "\n",
    "# Pivot table for heatmap\n",
    "heatmap_data = df.pivot_table(index='gdp_bin', columns='population_bin', values='total_medal_count', aggfunc='mean')\n",
    "\n",
    "plt.figure(figsize=(20, 20))\n",
    "sns.heatmap(heatmap_data, annot=True, cmap='Blues', fmt='.1f')\n",
    "plt.title('Heatmap of Medal Count by GDP and Population')\n",
    "plt.xlabel('Population Bins')\n",
    "plt.ylabel('GDP Bins')\n",
    "plt.savefig('heatmap_gdp_population_medals.png')\n",
    "plt.close()\n"
   ]
  },
  {
   "cell_type": "code",
   "execution_count": 16,
   "metadata": {},
   "outputs": [
    {
     "name": "stderr",
     "output_type": "stream",
     "text": [
      "c:\\Users\\pedro\\AppData\\Local\\Programs\\Python\\Python312\\Lib\\site-packages\\seaborn\\categorical.py:3399: UserWarning: 52.3% of the points cannot be placed; you may want to decrease the size of the markers or use stripplot.\n",
      "  warnings.warn(msg, UserWarning)\n",
      "c:\\Users\\pedro\\AppData\\Local\\Programs\\Python\\Python312\\Lib\\site-packages\\seaborn\\categorical.py:3399: UserWarning: 25.7% of the points cannot be placed; you may want to decrease the size of the markers or use stripplot.\n",
      "  warnings.warn(msg, UserWarning)\n",
      "c:\\Users\\pedro\\AppData\\Local\\Programs\\Python\\Python312\\Lib\\site-packages\\seaborn\\categorical.py:3399: UserWarning: 23.0% of the points cannot be placed; you may want to decrease the size of the markers or use stripplot.\n",
      "  warnings.warn(msg, UserWarning)\n",
      "c:\\Users\\pedro\\AppData\\Local\\Programs\\Python\\Python312\\Lib\\site-packages\\seaborn\\categorical.py:3399: UserWarning: 5.5% of the points cannot be placed; you may want to decrease the size of the markers or use stripplot.\n",
      "  warnings.warn(msg, UserWarning)\n",
      "c:\\Users\\pedro\\AppData\\Local\\Programs\\Python\\Python312\\Lib\\site-packages\\seaborn\\categorical.py:3399: UserWarning: 56.0% of the points cannot be placed; you may want to decrease the size of the markers or use stripplot.\n",
      "  warnings.warn(msg, UserWarning)\n",
      "c:\\Users\\pedro\\AppData\\Local\\Programs\\Python\\Python312\\Lib\\site-packages\\seaborn\\categorical.py:3399: UserWarning: 33.0% of the points cannot be placed; you may want to decrease the size of the markers or use stripplot.\n",
      "  warnings.warn(msg, UserWarning)\n",
      "c:\\Users\\pedro\\AppData\\Local\\Programs\\Python\\Python312\\Lib\\site-packages\\seaborn\\categorical.py:3399: UserWarning: 29.5% of the points cannot be placed; you may want to decrease the size of the markers or use stripplot.\n",
      "  warnings.warn(msg, UserWarning)\n",
      "c:\\Users\\pedro\\AppData\\Local\\Programs\\Python\\Python312\\Lib\\site-packages\\seaborn\\categorical.py:3399: UserWarning: 10.1% of the points cannot be placed; you may want to decrease the size of the markers or use stripplot.\n",
      "  warnings.warn(msg, UserWarning)\n"
     ]
    }
   ],
   "source": [
    "plt.figure(figsize=(10, 6))\n",
    "sns.swarmplot(data=df, x='gdp_quartile', y='total_medal_count', hue='hosting_status', palette='Set2')\n",
    "plt.title('Total Medals by GDP Quartile and Hosting Status')\n",
    "plt.xlabel('GDP Quartile')\n",
    "plt.ylabel('Total Medal Count')\n",
    "plt.savefig('swarmplot_gdp_vs_medals.png')\n",
    "plt.close()\n"
   ]
  },
  {
   "cell_type": "code",
   "execution_count": 17,
   "metadata": {},
   "outputs": [
    {
     "name": "stderr",
     "output_type": "stream",
     "text": [
      "C:\\Users\\pedro\\AppData\\Local\\Temp\\ipykernel_6696\\3719266495.py:2: FutureWarning: \n",
      "\n",
      "`shade` is now deprecated in favor of `fill`; setting `fill=True`.\n",
      "This will become an error in seaborn v0.14.0; please update your code.\n",
      "\n",
      "  sns.kdeplot(data=df[df['population'] > df['population'].median()], x='total_medal_count', label='High Population', shade=True)\n",
      "C:\\Users\\pedro\\AppData\\Local\\Temp\\ipykernel_6696\\3719266495.py:3: FutureWarning: \n",
      "\n",
      "`shade` is now deprecated in favor of `fill`; setting `fill=True`.\n",
      "This will become an error in seaborn v0.14.0; please update your code.\n",
      "\n",
      "  sns.kdeplot(data=df[df['population'] <= df['population'].median()], x='total_medal_count', label='Low Population', shade=True)\n"
     ]
    }
   ],
   "source": [
    "plt.figure(figsize=(10, 6))\n",
    "sns.kdeplot(data=df[df['population'] > df['population'].median()], x='total_medal_count', label='High Population', shade=True)\n",
    "sns.kdeplot(data=df[df['population'] <= df['population'].median()], x='total_medal_count', label='Low Population', shade=True)\n",
    "plt.title('Density Plot: Total Medals for High vs Low Population Countries')\n",
    "plt.xlabel('Total Medal Count')\n",
    "plt.legend()\n",
    "plt.savefig('density_medals_by_population.png')\n",
    "plt.close()\n"
   ]
  },
  {
   "cell_type": "code",
   "execution_count": 18,
   "metadata": {},
   "outputs": [],
   "source": [
    "# Calculate total GDP if not already done\n",
    "if 'total_gdp' not in df.columns:\n",
    "    df['total_gdp'] = df['gdp_per_capita'] * df['population']\n",
    "\n",
    "# Create scatter plot with total GDP and democracy score, and size markers by total medal count\n",
    "plt.figure(figsize=(10, 6))\n",
    "scatter = plt.scatter(data=df, x='total_gdp', y='democracy_score', \n",
    "                      s=df['total_medal_count'] * 10,  # Scale medal count for marker size\n",
    "                      c=df['total_medal_count'], cmap='viridis', alpha=0.6)\n",
    "\n",
    "plt.xscale('log')  # Log scale for GDP to account for its wide range\n",
    "plt.colorbar(scatter, label='Total Medal Count')\n",
    "plt.title('Total GDP and Democracy Score vs Total Medal Count')\n",
    "plt.xlabel('Total GDP (Log Scale)')\n",
    "plt.ylabel('Democracy Score')\n",
    "plt.savefig('total_gdp_vs_democracy_vs_medals.png')\n",
    "plt.close()\n"
   ]
  },
  {
   "cell_type": "code",
   "execution_count": 19,
   "metadata": {},
   "outputs": [],
   "source": [
    "# Calculate total GDP if not already done\n",
    "if 'total_gdp' not in df.columns:\n",
    "    df['total_gdp'] = df['gdp_per_capita'] * df['population']\n",
    "\n",
    "# Create scatter plot with total GDP, democracy score, and color by life expectancy\n",
    "plt.figure(figsize=(10, 6))\n",
    "scatter = plt.scatter(data=df, x='total_gdp', y='democracy_score', \n",
    "                      s=df['total_medal_count'] * 10,  # Scale medal count for marker size\n",
    "                      c=df['life_expectancy'], cmap='coolwarm', alpha=0.6)  # Color by life expectancy\n",
    "\n",
    "plt.xscale('log')  # Log scale for GDP\n",
    "plt.colorbar(scatter, label='Life Expectancy')\n",
    "plt.title('Total GDP and Democracy Score vs Total Medal Count (Colored by Life Expectancy)')\n",
    "plt.xlabel('Total GDP (Log Scale)')\n",
    "plt.ylabel('Democracy Score')\n",
    "plt.savefig('total_gdp_democracy_life_expectancy_medals.png')\n",
    "plt.close()\n"
   ]
  },
  {
   "cell_type": "code",
   "execution_count": 20,
   "metadata": {},
   "outputs": [],
   "source": [
    "df['medals_per_capita'] = df['total_medal_count'] / df['population']\n",
    "plt.figure(figsize=(10, 6))\n",
    "sns.scatterplot(data=df, x='gdp_per_capita', y='medals_per_capita', alpha=0.6)\n",
    "plt.xscale('log')  # Log scale for GDP to account for its wide range\n",
    "plt.colorbar(scatter, label='Total Medal Count')\n",
    "plt.title('Total GDP per capita vs medals per capita')\n",
    "plt.xlabel('Gdp per capita')\n",
    "plt.ylabel('medals per capita')\n",
    "plt.savefig('gdppercapitavsmedalspercapita.png')\n",
    "plt.close()"
   ]
  },
  {
   "cell_type": "code",
   "execution_count": 21,
   "metadata": {},
   "outputs": [],
   "source": [
    "df['population_density'] = df['population'] / df['area_sq_km']\n",
    "plt.figure(figsize=(10, 6))\n",
    "sns.scatterplot(data=df, x='population_density', y='total_medal_count', alpha=0.6)\n",
    "plt.xscale('log')  # Log scale for GDP to account for its wide range\n",
    "plt.colorbar(scatter, label='Total Medal Count')\n",
    "plt.title('Medals per pop density')\n",
    "plt.xlabel('pop density')\n",
    "plt.ylabel('medals ')\n",
    "plt.savefig('densitypop vs medals.png')\n",
    "plt.close()"
   ]
  },
  {
   "cell_type": "code",
   "execution_count": 22,
   "metadata": {},
   "outputs": [],
   "source": [
    "df['urban_population'] = df['urban_population_percent'] * df['population'] / 100\n",
    "plt.figure(figsize=(10, 6))\n",
    "sns.scatterplot(data=df, x='urban_population', y='total_medal_count', alpha=0.6)\n",
    "plt.xscale('log')  # Log scale for GDP to account for its wide range\n",
    "plt.colorbar(scatter, label='Total Medal Count')\n",
    "plt.title('Urban population vs medals')\n",
    "plt.xlabel('Urban population')\n",
    "plt.ylabel('medals ')\n",
    "plt.savefig('urbanpopulation vs medals.png')\n",
    "plt.close()\n"
   ]
  },
  {
   "cell_type": "code",
   "execution_count": 23,
   "metadata": {},
   "outputs": [],
   "source": [
    "df['pop_20_39'] = df['pop_20_39_percent'] * df['population'] / 100\n",
    "plt.figure(figsize=(10, 6))\n",
    "sns.scatterplot(data=df, x='pop_20_39', y='total_medal_count', alpha=0.6)\n",
    "plt.xscale('log')  # Log scale for GDP to account for its wide range\n",
    "plt.colorbar(scatter, label='Total Medal Count')\n",
    "plt.title('pop 20-39 vs medals')\n",
    "plt.xlabel('pop 20-39')\n",
    "plt.ylabel('medals ')\n",
    "plt.savefig('pop20-39 vs medals.png')\n",
    "plt.close()\n"
   ]
  },
  {
   "cell_type": "code",
   "execution_count": 15,
   "metadata": {},
   "outputs": [],
   "source": [
    "df['bmi'] = df['bmi_mean']*df['population']\n",
    "plt.figure(figsize=(10, 6))\n",
    "sns.scatterplot(data=df, x='bmi', y='total_medal_count', alpha=0.6)\n",
    "plt.xscale('log')  # Log scale for GDP to account for its wide range\n",
    "plt.savefig('bmivs_medals.pdf')\n",
    "plt.close()"
   ]
  }
 ],
 "metadata": {
  "kernelspec": {
   "display_name": "Python 3",
   "language": "python",
   "name": "python3"
  },
  "language_info": {
   "codemirror_mode": {
    "name": "ipython",
    "version": 3
   },
   "file_extension": ".py",
   "mimetype": "text/x-python",
   "name": "python",
   "nbconvert_exporter": "python",
   "pygments_lexer": "ipython3",
   "version": "3.12.2"
  }
 },
 "nbformat": 4,
 "nbformat_minor": 2
}
